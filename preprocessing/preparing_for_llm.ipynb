{
 "cells": [
  {
   "cell_type": "code",
   "execution_count": 9,
   "metadata": {},
   "outputs": [],
   "source": [
    "import pandas as pd\n",
    "\n",
    "# Load the datasets\n",
    "df_test = pd.read_csv(\"data/drug_review_test.csv\")\n",
    "df_train = pd.read_csv(\"data/drug_review_train.csv\")\n",
    "df_validation = pd.read_csv(\"data/drug_review_validation.csv\")\n",
    "\n",
    "# Merge the datasets\n",
    "df = pd.concat([df_train, df_test, df_validation], ignore_index=True)\n",
    "\n",
    "def map_rating_to_sentiment(rating):\n",
    "    if 8 <= rating <= 10:\n",
    "        return 'positive'\n",
    "    elif 5 <= rating <= 7:\n",
    "        return 'neutral'\n",
    "    elif 1 <= rating <= 4:\n",
    "        return 'negative'\n",
    "\n",
    "\n",
    "df['sentiment'] = df['rating'].apply(map_rating_to_sentiment)\n",
    "\n",
    "df = df[['drugName', 'review', 'sentiment']]\n",
    "df = df[df['sentiment']==\"negative\"].reset_index().drop(\"index\",axis = 1)\n",
    "# Group by 'drugName' and keep only 'review'\n",
    "grouped_df = df.groupby('drugName')['review'].apply(list).reset_index()\n",
    "# Convert to JSON\n",
    "grouped_df.set_index('drugName').to_json(\"data/drug_reviews_grouped.json\", orient=\"index\", indent=4)\n"
   ]
  }
 ],
 "metadata": {
  "kernelspec": {
   "display_name": "venv",
   "language": "python",
   "name": "python3"
  },
  "language_info": {
   "codemirror_mode": {
    "name": "ipython",
    "version": 3
   },
   "file_extension": ".py",
   "mimetype": "text/x-python",
   "name": "python",
   "nbconvert_exporter": "python",
   "pygments_lexer": "ipython3",
   "version": "3.12.4"
  }
 },
 "nbformat": 4,
 "nbformat_minor": 2
}
