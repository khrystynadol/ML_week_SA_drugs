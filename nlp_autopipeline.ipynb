{
 "cells": [
  {
   "cell_type": "markdown",
   "source": [
    "### NLP Pipeline\n",
    "\n",
    "Let's start from importing basic libraries:"
   ],
   "metadata": {
    "collapsed": false
   },
   "id": "64e7fc04fd4eb857"
  },
  {
   "cell_type": "code",
   "source": [
    "import os\n",
    "\n",
    "import numpy as np\n",
    "import pandas as pd\n",
    "# import tensorflow as tf\n",
    "\n",
    "import warnings\n",
    "warnings.filterwarnings(\"ignore\")"
   ],
   "metadata": {
    "collapsed": true,
    "ExecuteTime": {
     "end_time": "2025-01-28T19:52:23.437814Z",
     "start_time": "2025-01-28T19:52:20.737703Z"
    }
   },
   "id": "initial_id",
   "outputs": [],
   "execution_count": 1
  },
  {
   "cell_type": "markdown",
   "source": [
    "Now let's read our train data and create a DataFrame:"
   ],
   "metadata": {
    "collapsed": false
   },
   "id": "2267a5f474542ba2"
  },
  {
   "cell_type": "code",
   "source": [
    "train_df = pd.read_csv('./data/drug_review_train.csv')\n",
    "train_df.head()"
   ],
   "metadata": {
    "collapsed": false,
    "ExecuteTime": {
     "end_time": "2025-01-28T19:52:38.269565Z",
     "start_time": "2025-01-28T19:52:36.460231Z"
    }
   },
   "id": "95b83e3ea798e95",
   "outputs": [
    {
     "data": {
      "text/plain": [
       "   Unnamed: 0  patient_id       drugName                   condition  \\\n",
       "0           0       89879   Cyclosporine  keratoconjunctivitis sicca   \n",
       "1           1      143975   Etonogestrel               birth control   \n",
       "2           2      106473       Implanon               birth control   \n",
       "3           3      184526    Hydroxyzine                     anxiety   \n",
       "4           4       91587  Dalfampridine          multiple sclerosis   \n",
       "\n",
       "                                              review  rating            date  \\\n",
       "0  \"i have used restasis for about a year now and...     2.0  April 20, 2013   \n",
       "1  \"my experience has been somewhat mixed. i have...     7.0  August 7, 2016   \n",
       "2  \"this is my second implanon would not recommen...     1.0    May 11, 2016   \n",
       "3  \"i recommend taking as prescribed, and the bot...    10.0  March 19, 2012   \n",
       "4  \"i have been on ampyra for 5 days and have bee...     9.0  August 1, 2010   \n",
       "\n",
       "   usefulCount  review_length  \n",
       "0           69            147  \n",
       "1            4            136  \n",
       "2            6            140  \n",
       "3          124            104  \n",
       "4          101             74  "
      ],
      "text/html": [
       "<div>\n",
       "<style scoped>\n",
       "    .dataframe tbody tr th:only-of-type {\n",
       "        vertical-align: middle;\n",
       "    }\n",
       "\n",
       "    .dataframe tbody tr th {\n",
       "        vertical-align: top;\n",
       "    }\n",
       "\n",
       "    .dataframe thead th {\n",
       "        text-align: right;\n",
       "    }\n",
       "</style>\n",
       "<table border=\"1\" class=\"dataframe\">\n",
       "  <thead>\n",
       "    <tr style=\"text-align: right;\">\n",
       "      <th></th>\n",
       "      <th>Unnamed: 0</th>\n",
       "      <th>patient_id</th>\n",
       "      <th>drugName</th>\n",
       "      <th>condition</th>\n",
       "      <th>review</th>\n",
       "      <th>rating</th>\n",
       "      <th>date</th>\n",
       "      <th>usefulCount</th>\n",
       "      <th>review_length</th>\n",
       "    </tr>\n",
       "  </thead>\n",
       "  <tbody>\n",
       "    <tr>\n",
       "      <th>0</th>\n",
       "      <td>0</td>\n",
       "      <td>89879</td>\n",
       "      <td>Cyclosporine</td>\n",
       "      <td>keratoconjunctivitis sicca</td>\n",
       "      <td>\"i have used restasis for about a year now and...</td>\n",
       "      <td>2.0</td>\n",
       "      <td>April 20, 2013</td>\n",
       "      <td>69</td>\n",
       "      <td>147</td>\n",
       "    </tr>\n",
       "    <tr>\n",
       "      <th>1</th>\n",
       "      <td>1</td>\n",
       "      <td>143975</td>\n",
       "      <td>Etonogestrel</td>\n",
       "      <td>birth control</td>\n",
       "      <td>\"my experience has been somewhat mixed. i have...</td>\n",
       "      <td>7.0</td>\n",
       "      <td>August 7, 2016</td>\n",
       "      <td>4</td>\n",
       "      <td>136</td>\n",
       "    </tr>\n",
       "    <tr>\n",
       "      <th>2</th>\n",
       "      <td>2</td>\n",
       "      <td>106473</td>\n",
       "      <td>Implanon</td>\n",
       "      <td>birth control</td>\n",
       "      <td>\"this is my second implanon would not recommen...</td>\n",
       "      <td>1.0</td>\n",
       "      <td>May 11, 2016</td>\n",
       "      <td>6</td>\n",
       "      <td>140</td>\n",
       "    </tr>\n",
       "    <tr>\n",
       "      <th>3</th>\n",
       "      <td>3</td>\n",
       "      <td>184526</td>\n",
       "      <td>Hydroxyzine</td>\n",
       "      <td>anxiety</td>\n",
       "      <td>\"i recommend taking as prescribed, and the bot...</td>\n",
       "      <td>10.0</td>\n",
       "      <td>March 19, 2012</td>\n",
       "      <td>124</td>\n",
       "      <td>104</td>\n",
       "    </tr>\n",
       "    <tr>\n",
       "      <th>4</th>\n",
       "      <td>4</td>\n",
       "      <td>91587</td>\n",
       "      <td>Dalfampridine</td>\n",
       "      <td>multiple sclerosis</td>\n",
       "      <td>\"i have been on ampyra for 5 days and have bee...</td>\n",
       "      <td>9.0</td>\n",
       "      <td>August 1, 2010</td>\n",
       "      <td>101</td>\n",
       "      <td>74</td>\n",
       "    </tr>\n",
       "  </tbody>\n",
       "</table>\n",
       "</div>"
      ]
     },
     "execution_count": 2,
     "metadata": {},
     "output_type": "execute_result"
    }
   ],
   "execution_count": 2
  },
  {
   "cell_type": "markdown",
   "source": [
    "Downloading libraries, necessary for preprocessing:"
   ],
   "metadata": {
    "collapsed": false
   },
   "id": "8dde856e219b41d"
  },
  {
   "cell_type": "code",
   "source": [
    "!python.exe -m pip install --upgrade pip\n",
    "!pip install nltk --upgrade --quiet\n",
    "# !pip install beautifulsoup4 --upgrade --quiet\n",
    "# !pip install contractions --upgrade --quiet\n",
    "# \n",
    "# !pip install unidecode --upgrade --quiet\n",
    "# !pip install textblob --upgrade --quiet\n",
    "# !pip install pyspellchecker --upgrade --quiet"
   ],
   "metadata": {
    "collapsed": false,
    "ExecuteTime": {
     "end_time": "2025-01-28T19:53:02.558572Z",
     "start_time": "2025-01-28T19:52:43.129273Z"
    }
   },
   "id": "34d415aec6294578",
   "outputs": [
    {
     "name": "stdout",
     "output_type": "stream",
     "text": [
      "Requirement already satisfied: pip in c:\\users\\khrystyna.i.dolynska\\pycharmprojects\\trial_sa\\ml_week_sa_drugs\\.venv\\lib\\site-packages (23.2.1)\n",
      "Collecting pip\n",
      "  Obtaining dependency information for pip from https://files.pythonhosted.org/packages/85/8a/1ddf40be20103bcc605db840e9ade09c8e8c9f920a03e9cfe88eae97a058/pip-25.0-py3-none-any.whl.metadata\n",
      "  Downloading pip-25.0-py3-none-any.whl.metadata (3.7 kB)\n",
      "Downloading pip-25.0-py3-none-any.whl (1.8 MB)\n",
      "   ---------------------------------------- 0.0/1.8 MB ? eta -:--:--\n",
      "    --------------------------------------- 0.0/1.8 MB ? eta -:--:--\n",
      "   - -------------------------------------- 0.1/1.8 MB 991.0 kB/s eta 0:00:02\n",
      "   -- ------------------------------------- 0.1/1.8 MB 1.1 MB/s eta 0:00:02\n",
      "   --- ------------------------------------ 0.2/1.8 MB 919.0 kB/s eta 0:00:02\n",
      "   ---- ----------------------------------- 0.2/1.8 MB 985.7 kB/s eta 0:00:02\n",
      "   ----- ---------------------------------- 0.3/1.8 MB 983.0 kB/s eta 0:00:02\n",
      "   ------ --------------------------------- 0.3/1.8 MB 947.5 kB/s eta 0:00:02\n",
      "   ------ --------------------------------- 0.3/1.8 MB 842.9 kB/s eta 0:00:02\n",
      "   ------ --------------------------------- 0.3/1.8 MB 791.9 kB/s eta 0:00:02\n",
      "   ------ --------------------------------- 0.3/1.8 MB 729.7 kB/s eta 0:00:03\n",
      "   ------ --------------------------------- 0.3/1.8 MB 729.7 kB/s eta 0:00:03\n",
      "   ------ --------------------------------- 0.3/1.8 MB 729.7 kB/s eta 0:00:03\n",
      "   ------ --------------------------------- 0.3/1.8 MB 729.7 kB/s eta 0:00:03\n",
      "   ------- -------------------------------- 0.3/1.8 MB 524.3 kB/s eta 0:00:03\n",
      "   ------- -------------------------------- 0.3/1.8 MB 515.1 kB/s eta 0:00:03\n",
      "   -------- ------------------------------- 0.4/1.8 MB 524.4 kB/s eta 0:00:03\n",
      "   -------- ------------------------------- 0.4/1.8 MB 532.5 kB/s eta 0:00:03\n",
      "   -------- ------------------------------- 0.4/1.8 MB 532.5 kB/s eta 0:00:03\n",
      "   --------- ------------------------------ 0.4/1.8 MB 488.8 kB/s eta 0:00:03\n",
      "   --------- ------------------------------ 0.4/1.8 MB 474.7 kB/s eta 0:00:03\n",
      "   ---------- ----------------------------- 0.5/1.8 MB 480.9 kB/s eta 0:00:03\n",
      "   ---------- ----------------------------- 0.5/1.8 MB 480.9 kB/s eta 0:00:03\n",
      "   ---------- ----------------------------- 0.5/1.8 MB 456.9 kB/s eta 0:00:03\n",
      "   ---------- ----------------------------- 0.5/1.8 MB 456.9 kB/s eta 0:00:03\n",
      "   ---------- ----------------------------- 0.5/1.8 MB 456.9 kB/s eta 0:00:03\n",
      "   ---------- ----------------------------- 0.5/1.8 MB 456.9 kB/s eta 0:00:03\n",
      "   ------------ --------------------------- 0.6/1.8 MB 448.1 kB/s eta 0:00:03\n",
      "   ------------ --------------------------- 0.6/1.8 MB 445.2 kB/s eta 0:00:03\n",
      "   ------------ --------------------------- 0.6/1.8 MB 445.2 kB/s eta 0:00:03\n",
      "   ------------ --------------------------- 0.6/1.8 MB 445.2 kB/s eta 0:00:03\n",
      "   -------------- ------------------------- 0.7/1.8 MB 464.1 kB/s eta 0:00:03\n",
      "   -------------- ------------------------- 0.7/1.8 MB 464.1 kB/s eta 0:00:03\n",
      "   -------------- ------------------------- 0.7/1.8 MB 464.1 kB/s eta 0:00:03\n",
      "   ---------------- ----------------------- 0.7/1.8 MB 465.5 kB/s eta 0:00:03\n",
      "   ---------------- ----------------------- 0.7/1.8 MB 465.5 kB/s eta 0:00:03\n",
      "   ---------------- ----------------------- 0.7/1.8 MB 465.5 kB/s eta 0:00:03\n",
      "   ---------------- ----------------------- 0.8/1.8 MB 447.3 kB/s eta 0:00:03\n",
      "   ------------------ --------------------- 0.8/1.8 MB 479.8 kB/s eta 0:00:03\n",
      "   ------------------- -------------------- 0.9/1.8 MB 496.0 kB/s eta 0:00:02\n",
      "   --------------------- ------------------ 1.0/1.8 MB 522.3 kB/s eta 0:00:02\n",
      "   ---------------------- ----------------- 1.0/1.8 MB 531.0 kB/s eta 0:00:02\n",
      "   ---------------------- ----------------- 1.1/1.8 MB 539.2 kB/s eta 0:00:02\n",
      "   ----------------------- ---------------- 1.1/1.8 MB 551.5 kB/s eta 0:00:02\n",
      "   ------------------------ --------------- 1.1/1.8 MB 559.6 kB/s eta 0:00:02\n",
      "   ------------------------- -------------- 1.2/1.8 MB 561.8 kB/s eta 0:00:02\n",
      "   -------------------------- ------------- 1.2/1.8 MB 577.8 kB/s eta 0:00:02\n",
      "   --------------------------- ------------ 1.3/1.8 MB 579.4 kB/s eta 0:00:02\n",
      "   ----------------------------- ---------- 1.3/1.8 MB 600.2 kB/s eta 0:00:01\n",
      "   ----------------------------- ---------- 1.4/1.8 MB 600.7 kB/s eta 0:00:01\n",
      "   ------------------------------ --------- 1.4/1.8 MB 611.2 kB/s eta 0:00:01\n",
      "   -------------------------------- ------- 1.5/1.8 MB 625.0 kB/s eta 0:00:01\n",
      "   -------------------------------- ------- 1.5/1.8 MB 625.5 kB/s eta 0:00:01\n",
      "   ---------------------------------- ----- 1.6/1.8 MB 638.7 kB/s eta 0:00:01\n",
      "   ----------------------------------- ---- 1.6/1.8 MB 643.1 kB/s eta 0:00:01\n",
      "   ------------------------------------ --- 1.7/1.8 MB 647.5 kB/s eta 0:00:01\n",
      "   ------------------------------------- -- 1.7/1.8 MB 655.5 kB/s eta 0:00:01\n",
      "   -------------------------------------- - 1.8/1.8 MB 663.1 kB/s eta 0:00:01\n",
      "   ---------------------------------------  1.8/1.8 MB 670.5 kB/s eta 0:00:01\n",
      "   ---------------------------------------- 1.8/1.8 MB 669.8 kB/s eta 0:00:00\n",
      "Installing collected packages: pip\n",
      "  Attempting uninstall: pip\n",
      "    Found existing installation: pip 23.2.1\n",
      "    Uninstalling pip-23.2.1:\n",
      "      Successfully uninstalled pip-23.2.1\n",
      "Successfully installed pip-25.0\n"
     ]
    }
   ],
   "execution_count": 3
  },
  {
   "cell_type": "markdown",
   "source": [
    "Let's create a new Dataframe for preprocessed data:"
   ],
   "metadata": {
    "collapsed": false
   },
   "id": "48cddf016d4a9940"
  },
  {
   "cell_type": "code",
   "source": [
    "prep_df = pd.DataFrame()\n",
    "\n",
    "prep_df['patient_id'] = train_df['patient_id']\n",
    "prep_df['review'] = train_df['review']\n",
    "prep_df['drugName'] = train_df['drugName'].apply(lambda x: x.lower())"
   ],
   "metadata": {
    "collapsed": false,
    "ExecuteTime": {
     "end_time": "2025-01-28T19:53:02.621529Z",
     "start_time": "2025-01-28T19:53:02.558572Z"
    }
   },
   "id": "ee24c1432d3bf6f0",
   "outputs": [],
   "execution_count": 4
  },
  {
   "cell_type": "markdown",
   "source": [
    "Relabeling rating column:"
   ],
   "metadata": {
    "collapsed": false
   },
   "id": "5e991f62e5ef9163"
  },
  {
   "cell_type": "code",
   "source": [
    "def relabel_rating(rating):\n",
    "    if 0 <= rating <= 4:\n",
    "        return 'Negative'\n",
    "    elif 5 <= rating <= 7:\n",
    "        return 'Neutral'\n",
    "    elif 8 <= rating <= 10:\n",
    "        return 'Positive'\n",
    "\n",
    "prep_df['rating_category'] = train_df['rating'].apply(relabel_rating)"
   ],
   "metadata": {
    "collapsed": false,
    "ExecuteTime": {
     "end_time": "2025-01-28T19:53:02.684100Z",
     "start_time": "2025-01-28T19:53:02.637204Z"
    }
   },
   "id": "c943870d50002238",
   "outputs": [],
   "execution_count": 5
  },
  {
   "cell_type": "code",
   "source": [
    "prep_df.head()"
   ],
   "metadata": {
    "collapsed": false,
    "ExecuteTime": {
     "end_time": "2025-01-28T19:53:02.747461Z",
     "start_time": "2025-01-28T19:53:02.715750Z"
    }
   },
   "id": "5e01448fc10609f7",
   "outputs": [
    {
     "data": {
      "text/plain": [
       "   patient_id                                             review  \\\n",
       "0       89879  \"i have used restasis for about a year now and...   \n",
       "1      143975  \"my experience has been somewhat mixed. i have...   \n",
       "2      106473  \"this is my second implanon would not recommen...   \n",
       "3      184526  \"i recommend taking as prescribed, and the bot...   \n",
       "4       91587  \"i have been on ampyra for 5 days and have bee...   \n",
       "\n",
       "        drugName rating_category  \n",
       "0   cyclosporine        Negative  \n",
       "1   etonogestrel         Neutral  \n",
       "2       implanon        Negative  \n",
       "3    hydroxyzine        Positive  \n",
       "4  dalfampridine        Positive  "
      ],
      "text/html": [
       "<div>\n",
       "<style scoped>\n",
       "    .dataframe tbody tr th:only-of-type {\n",
       "        vertical-align: middle;\n",
       "    }\n",
       "\n",
       "    .dataframe tbody tr th {\n",
       "        vertical-align: top;\n",
       "    }\n",
       "\n",
       "    .dataframe thead th {\n",
       "        text-align: right;\n",
       "    }\n",
       "</style>\n",
       "<table border=\"1\" class=\"dataframe\">\n",
       "  <thead>\n",
       "    <tr style=\"text-align: right;\">\n",
       "      <th></th>\n",
       "      <th>patient_id</th>\n",
       "      <th>review</th>\n",
       "      <th>drugName</th>\n",
       "      <th>rating_category</th>\n",
       "    </tr>\n",
       "  </thead>\n",
       "  <tbody>\n",
       "    <tr>\n",
       "      <th>0</th>\n",
       "      <td>89879</td>\n",
       "      <td>\"i have used restasis for about a year now and...</td>\n",
       "      <td>cyclosporine</td>\n",
       "      <td>Negative</td>\n",
       "    </tr>\n",
       "    <tr>\n",
       "      <th>1</th>\n",
       "      <td>143975</td>\n",
       "      <td>\"my experience has been somewhat mixed. i have...</td>\n",
       "      <td>etonogestrel</td>\n",
       "      <td>Neutral</td>\n",
       "    </tr>\n",
       "    <tr>\n",
       "      <th>2</th>\n",
       "      <td>106473</td>\n",
       "      <td>\"this is my second implanon would not recommen...</td>\n",
       "      <td>implanon</td>\n",
       "      <td>Negative</td>\n",
       "    </tr>\n",
       "    <tr>\n",
       "      <th>3</th>\n",
       "      <td>184526</td>\n",
       "      <td>\"i recommend taking as prescribed, and the bot...</td>\n",
       "      <td>hydroxyzine</td>\n",
       "      <td>Positive</td>\n",
       "    </tr>\n",
       "    <tr>\n",
       "      <th>4</th>\n",
       "      <td>91587</td>\n",
       "      <td>\"i have been on ampyra for 5 days and have bee...</td>\n",
       "      <td>dalfampridine</td>\n",
       "      <td>Positive</td>\n",
       "    </tr>\n",
       "  </tbody>\n",
       "</table>\n",
       "</div>"
      ]
     },
     "execution_count": 6,
     "metadata": {},
     "output_type": "execute_result"
    }
   ],
   "execution_count": 6
  },
  {
   "cell_type": "markdown",
   "source": [
    "Now let's import libraries for text preprocessing:"
   ],
   "metadata": {
    "collapsed": false
   },
   "id": "2f79d36e8192ba58"
  },
  {
   "cell_type": "code",
   "source": [
    "import nltk\n",
    "nltk.download('punkt_tab')\n",
    "\n",
    "from nltk import word_tokenize\n",
    "\n",
    "train_df['review'] = train_df['review'].apply(word_tokenize)\n",
    "prep_df.head()"
   ],
   "metadata": {
    "collapsed": false,
    "ExecuteTime": {
     "end_time": "2025-01-28T19:57:14.685763Z",
     "start_time": "2025-01-28T19:55:54.580168Z"
    }
   },
   "id": "44b30036cef182e9",
   "outputs": [
    {
     "name": "stderr",
     "output_type": "stream",
     "text": [
      "[nltk_data] Downloading package punkt_tab to\n",
      "[nltk_data]     C:\\Users\\khrystyna.i.dolynska\\AppData\\Roaming\\nltk_dat\n",
      "[nltk_data]     a...\n",
      "[nltk_data]   Unzipping tokenizers\\punkt_tab.zip.\n"
     ]
    },
    {
     "data": {
      "text/plain": [
       "   patient_id                                             review  \\\n",
       "0       89879  \"i have used restasis for about a year now and...   \n",
       "1      143975  \"my experience has been somewhat mixed. i have...   \n",
       "2      106473  \"this is my second implanon would not recommen...   \n",
       "3      184526  \"i recommend taking as prescribed, and the bot...   \n",
       "4       91587  \"i have been on ampyra for 5 days and have bee...   \n",
       "\n",
       "        drugName rating_category  \n",
       "0   cyclosporine        Negative  \n",
       "1   etonogestrel         Neutral  \n",
       "2       implanon        Negative  \n",
       "3    hydroxyzine        Positive  \n",
       "4  dalfampridine        Positive  "
      ],
      "text/html": [
       "<div>\n",
       "<style scoped>\n",
       "    .dataframe tbody tr th:only-of-type {\n",
       "        vertical-align: middle;\n",
       "    }\n",
       "\n",
       "    .dataframe tbody tr th {\n",
       "        vertical-align: top;\n",
       "    }\n",
       "\n",
       "    .dataframe thead th {\n",
       "        text-align: right;\n",
       "    }\n",
       "</style>\n",
       "<table border=\"1\" class=\"dataframe\">\n",
       "  <thead>\n",
       "    <tr style=\"text-align: right;\">\n",
       "      <th></th>\n",
       "      <th>patient_id</th>\n",
       "      <th>review</th>\n",
       "      <th>drugName</th>\n",
       "      <th>rating_category</th>\n",
       "    </tr>\n",
       "  </thead>\n",
       "  <tbody>\n",
       "    <tr>\n",
       "      <th>0</th>\n",
       "      <td>89879</td>\n",
       "      <td>\"i have used restasis for about a year now and...</td>\n",
       "      <td>cyclosporine</td>\n",
       "      <td>Negative</td>\n",
       "    </tr>\n",
       "    <tr>\n",
       "      <th>1</th>\n",
       "      <td>143975</td>\n",
       "      <td>\"my experience has been somewhat mixed. i have...</td>\n",
       "      <td>etonogestrel</td>\n",
       "      <td>Neutral</td>\n",
       "    </tr>\n",
       "    <tr>\n",
       "      <th>2</th>\n",
       "      <td>106473</td>\n",
       "      <td>\"this is my second implanon would not recommen...</td>\n",
       "      <td>implanon</td>\n",
       "      <td>Negative</td>\n",
       "    </tr>\n",
       "    <tr>\n",
       "      <th>3</th>\n",
       "      <td>184526</td>\n",
       "      <td>\"i recommend taking as prescribed, and the bot...</td>\n",
       "      <td>hydroxyzine</td>\n",
       "      <td>Positive</td>\n",
       "    </tr>\n",
       "    <tr>\n",
       "      <th>4</th>\n",
       "      <td>91587</td>\n",
       "      <td>\"i have been on ampyra for 5 days and have bee...</td>\n",
       "      <td>dalfampridine</td>\n",
       "      <td>Positive</td>\n",
       "    </tr>\n",
       "  </tbody>\n",
       "</table>\n",
       "</div>"
      ]
     },
     "execution_count": 8,
     "metadata": {},
     "output_type": "execute_result"
    }
   ],
   "execution_count": 8
  },
  {
   "cell_type": "code",
   "source": [
    "import re\n",
    "import string\n",
    "import contractions\n",
    "\n",
    "import logging\n",
    "\n",
    "import nltk\n",
    "from nltk.corpus import stopwords\n",
    "\n",
    "from nltk.corpus import wordnet\n",
    "from nltk import pos_tag, word_tokenize\n",
    "from nltk.stem import WordNetLemmatizer\n",
    "\n",
    "from bs4 import BeautifulSoup\n",
    "from unidecode import unidecode\n",
    "from textblob import TextBlob\n",
    "\n",
    "nltk.download(\"stopwords\")\n",
    "sw_nltk = stopwords.words('english')\n",
    "nltk.download(\"wordnet\")\n",
    "nltk.download('averaged_perceptron_tagger_eng')\n",
    "\n",
    "lemmatizer = WordNetLemmatizer()\n",
    "\n",
    "logging.basicConfig(level=logging.INFO)\n",
    "logger = logging.getLogger(__name__)"
   ],
   "metadata": {
    "collapsed": false,
    "ExecuteTime": {
     "end_time": "2025-01-28T19:58:07.952886Z",
     "start_time": "2025-01-28T19:57:47.991399Z"
    }
   },
   "id": "6fc80a69a6f7e6dd",
   "outputs": [
    {
     "name": "stderr",
     "output_type": "stream",
     "text": [
      "[nltk_data] Downloading package stopwords to\n",
      "[nltk_data]     C:\\Users\\khrystyna.i.dolynska\\AppData\\Roaming\\nltk_dat\n",
      "[nltk_data]     a...\n",
      "[nltk_data]   Unzipping corpora\\stopwords.zip.\n",
      "[nltk_data] Downloading package wordnet to\n",
      "[nltk_data]     C:\\Users\\khrystyna.i.dolynska\\AppData\\Roaming\\nltk_dat\n",
      "[nltk_data]     a...\n",
      "[nltk_data] Downloading package averaged_perceptron_tagger_eng to\n",
      "[nltk_data]     C:\\Users\\khrystyna.i.dolynska\\AppData\\Roaming\\nltk_dat\n",
      "[nltk_data]     a...\n",
      "[nltk_data]   Unzipping taggers\\averaged_perceptron_tagger_eng.zip.\n"
     ]
    }
   ],
   "execution_count": 9
  },
  {
   "cell_type": "code",
   "source": [
    "def get_wordnet_pos(tag):\n",
    "    if tag.startswith('J'):\n",
    "        return wordnet.ADJ\n",
    "    elif tag.startswith('V'):\n",
    "        return wordnet.VERB\n",
    "    elif tag.startswith('N'):\n",
    "        return wordnet.NOUN\n",
    "    elif tag.startswith('R'):\n",
    "        return wordnet.ADV\n",
    "    else:\n",
    "        return wordnet.NOUN\n",
    "\n",
    "# Lemmatize with POS tagging for lists\n",
    "# def lemmatize_with_pos(tokens):\n",
    "#     pos_tags = pos_tag(tokens)\n",
    "#     lemmatized_tokens = [lemmatizer.lemmatize(word, get_wordnet_pos(tag)) for word, tag in pos_tags]\n",
    "#     return lemmatized_tokens\n",
    "\n",
    "def lemmatize_with_pos(tokens):\n",
    "    if isinstance(tokens, str):\n",
    "        tokens = word_tokenize(tokens)\n",
    "\n",
    "    if not isinstance(tokens, list):\n",
    "        raise TypeError(\"tokens: expected a list of strings, got a string\")\n",
    "    \n",
    "    pos_tags = pos_tag(tokens)\n",
    "    lemmatized_tokens = [lemmatizer.lemmatize(word, get_wordnet_pos(tag)) for word, tag in pos_tags]\n",
    "    return lemmatized_tokens"
   ],
   "metadata": {
    "collapsed": false,
    "ExecuteTime": {
     "end_time": "2025-01-28T19:58:07.984528Z",
     "start_time": "2025-01-28T19:58:07.967024Z"
    }
   },
   "id": "95df5ba4cf37d687",
   "outputs": [],
   "execution_count": 10
  },
  {
   "cell_type": "code",
   "source": [
    "class Pipeline:\n",
    "    def __init__(self, X):\n",
    "        self.X = X\n",
    "        \n",
    "    def to_lower(self):\n",
    "        # Let's check if first element is a list\n",
    "        if isinstance(self.X.iloc[0], list):     \n",
    "            self.X = self.X.apply(lambda tokens: [token.lower() for token in tokens])\n",
    "        else:\n",
    "            self.X = self.X.apply(lambda x: x.lower())\n",
    "        logger.info(\"Lowercase done\")\n",
    "        return self\n",
    "    \n",
    "    def remove_numbers(self):\n",
    "        if isinstance(self.X.iloc[0], list):\n",
    "            self.X = self.X.apply(lambda tokens: [re.sub(r'\\d+', '', token) for token in tokens])\n",
    "        else:\n",
    "            self.X = self.X.apply(lambda x: re.sub(r'\\d+', '', x))\n",
    "        logger.info(\"Numbers removal done\")\n",
    "        return self\n",
    "\n",
    "    def remove_dots(self):\n",
    "        if isinstance(self.X.iloc[0], list):     \n",
    "            self.X = self.X.apply(lambda tokens: [re.sub(\"[.]\", \"\", token) for token in tokens])\n",
    "        else:\n",
    "            self.X = self.X.apply(lambda x: re.sub(\"[.]\", \"\", x))\n",
    "        logger.info(\"Dots removal done\")\n",
    "        return self\n",
    "    \n",
    "    def remove_punctuation(self):\n",
    "        # '!\"#$%&'()*+,-./:;<=>?@[\\]^_`{|}~' 32 punctuations in python string module\n",
    "        if isinstance(self.X.iloc[0], list):     \n",
    "            self.X = self.X.apply(lambda tokens: [re.sub('[%s]' % re.escape(string.punctuation), '', token) for token in tokens])\n",
    "        else:\n",
    "            self.X = self.X.apply(lambda x: re.sub('[%s]' % re.escape(string.punctuation), '', x))\n",
    "        logger.info(\"Punctuation removal done\")\n",
    "        return self\n",
    "    \n",
    "    def remove_multi_whitespace(self):\n",
    "        if isinstance(self.X.iloc[0], list):     \n",
    "            self.X = self.X.apply(lambda tokens: [re.sub(' +', ' ', token) for token in tokens])\n",
    "        else:\n",
    "            self.X = self.X.apply(lambda x: re.sub(' +', ' ', x))\n",
    "        logger.info(\"Multi whitespaces removal done\")\n",
    "        return self\n",
    "    \n",
    "    def expand_contractions(self):\n",
    "        if isinstance(self.X.iloc[0], list):\n",
    "            self.X = self.X.apply(\n",
    "                lambda tokens: [contractions.fix(str(token)) for token in tokens if isinstance(token, str)]\n",
    "            )\n",
    "        else: \n",
    "            self.X = self.X.apply(\n",
    "                lambda x: \" \".join([contractions.fix(str(word)) for word in x.split() if isinstance(word, str)])\n",
    "            )\n",
    "        logger.info(\"Contractions expand done\")\n",
    "        return self\n",
    "\n",
    "    # Is this step usable for current dataset?\n",
    "    def remove_html_tags(self):\n",
    "        self.X = self.X.apply(\n",
    "            lambda x: BeautifulSoup(x, 'html.parser').get_text())\n",
    "        logger.info(\"HTML tags removal done\")\n",
    "        return self\n",
    "\n",
    "    def replace_diacritics(self):\n",
    "        def process_tokens(tokens):\n",
    "            try:\n",
    "                return [unidecode(str(token)) for token in tokens]\n",
    "            except Exception as e:\n",
    "                logger.info(f\"Error processing tokens: {tokens}. Error: {e}\")\n",
    "                return tokens\n",
    "    \n",
    "        if isinstance(self.X.iloc[0], list):\n",
    "            self.X = self.X.apply(lambda tokens: process_tokens(tokens) if isinstance(tokens, list) else tokens)\n",
    "        else:\n",
    "            self.X = self.X.apply(lambda x: unidecode(str(x)) if isinstance(x, str) else str(x))\n",
    "        \n",
    "        logger.info(\"Diacritics replacement done\")\n",
    "        return self\n",
    "    \n",
    "    def spellcheck(self):\n",
    "        self.X = self.X.apply(lambda tokens: [str(TextBlob(token).correct()) for token in tokens] if isinstance(tokens, list) else tokens)\n",
    "        logger.info(\"Spellcheck done\")\n",
    "        return self\n",
    "    \n",
    "    # Will NOT be used for Transformers\n",
    "    def remove_stopwords(self):\n",
    "        # Possible to add custom stopwords\n",
    "        # new_stopwords = ['drugs']\n",
    "        # sw_nltk.extend(new_stopwords)\n",
    "        # Possible to remove already existing stopwords\n",
    "        # sw_nltk.remove('not')\n",
    "        self.X = self.X.apply(lambda tokens: [token for token in tokens if token not in sw_nltk] if isinstance(tokens, list) else tokens)\n",
    "        logger.info(\"Stopwords removal done\")\n",
    "        return self\n",
    "    \n",
    "    # Will NOT be used for Transformers\n",
    "    def lemmatize(self):\n",
    "        self.X = self.X.apply(lemmatize_with_pos)\n",
    "        logger.info(\"Lemmatization done\")\n",
    "        return self"
   ],
   "metadata": {
    "collapsed": false,
    "ExecuteTime": {
     "end_time": "2025-01-28T19:58:11.913229Z",
     "start_time": "2025-01-28T19:58:11.867665Z"
    }
   },
   "id": "66015c4bd82f18ba",
   "outputs": [],
   "execution_count": 11
  },
  {
   "cell_type": "code",
   "source": [
    "text_preprocessor = Pipeline(train_df['review'])"
   ],
   "metadata": {
    "collapsed": false,
    "ExecuteTime": {
     "end_time": "2025-01-28T20:02:42.787147Z",
     "start_time": "2025-01-28T20:02:42.778557Z"
    }
   },
   "id": "6b83a549f71cf9bf",
   "outputs": [],
   "execution_count": 12
  },
  {
   "cell_type": "code",
   "source": [
    "prep_df['review'] = text_preprocessor.to_lower().remove_numbers().remove_punctuation().remove_multi_whitespace().X"
   ],
   "metadata": {
    "collapsed": false,
    "ExecuteTime": {
     "end_time": "2025-01-28T20:04:03.279487Z",
     "start_time": "2025-01-28T20:03:00.163441Z"
    }
   },
   "id": "a6b8a38296658d8f",
   "outputs": [
    {
     "name": "stderr",
     "output_type": "stream",
     "text": [
      "INFO:__main__:Lowercase done\n",
      "INFO:__main__:Numbers removal done\n",
      "INFO:__main__:Punctuation removal done\n",
      "INFO:__main__:Multi whitespaces removal done\n"
     ]
    }
   ],
   "execution_count": 13
  },
  {
   "cell_type": "code",
   "source": [
    "prep_df['review'] = text_preprocessor.replace_diacritics().expand_contractions().spellcheck().X"
   ],
   "metadata": {
    "collapsed": false,
    "is_executing": true,
    "ExecuteTime": {
     "end_time": "2025-01-29T06:56:03.485131Z",
     "start_time": "2025-01-28T20:04:17.004745Z"
    }
   },
   "id": "568a26433654a3bb",
   "outputs": [
    {
     "name": "stderr",
     "output_type": "stream",
     "text": [
      "INFO:__main__:Diacritics replacement done\n",
      "INFO:__main__:Contractions expand done\n",
      "INFO:__main__:Spellcheck done\n"
     ]
    }
   ],
   "execution_count": 14
  },
  {
   "cell_type": "code",
   "source": "prep_df.head()",
   "metadata": {
    "collapsed": false,
    "ExecuteTime": {
     "end_time": "2025-01-29T06:56:03.532380Z",
     "start_time": "2025-01-29T06:56:03.506341Z"
    }
   },
   "id": "9da8f2bac56a5d1b",
   "outputs": [
    {
     "data": {
      "text/plain": [
       "   patient_id                                             review  \\\n",
       "0       89879  [, i, have, used, stasis, for, about, a, year,...   \n",
       "1      143975  [, my, experience, has, been, somewhat, mixed,...   \n",
       "2      106473  [, this, is, my, second, implanon, would, not,...   \n",
       "3      184526  [, i, recommend, taking, as, prescribed, , and...   \n",
       "4       91587  [, i, have, been, on, ampyra, for, , days, and...   \n",
       "\n",
       "        drugName rating_category  \n",
       "0   cyclosporine        Negative  \n",
       "1   etonogestrel         Neutral  \n",
       "2       implanon        Negative  \n",
       "3    hydroxyzine        Positive  \n",
       "4  dalfampridine        Positive  "
      ],
      "text/html": [
       "<div>\n",
       "<style scoped>\n",
       "    .dataframe tbody tr th:only-of-type {\n",
       "        vertical-align: middle;\n",
       "    }\n",
       "\n",
       "    .dataframe tbody tr th {\n",
       "        vertical-align: top;\n",
       "    }\n",
       "\n",
       "    .dataframe thead th {\n",
       "        text-align: right;\n",
       "    }\n",
       "</style>\n",
       "<table border=\"1\" class=\"dataframe\">\n",
       "  <thead>\n",
       "    <tr style=\"text-align: right;\">\n",
       "      <th></th>\n",
       "      <th>patient_id</th>\n",
       "      <th>review</th>\n",
       "      <th>drugName</th>\n",
       "      <th>rating_category</th>\n",
       "    </tr>\n",
       "  </thead>\n",
       "  <tbody>\n",
       "    <tr>\n",
       "      <th>0</th>\n",
       "      <td>89879</td>\n",
       "      <td>[, i, have, used, stasis, for, about, a, year,...</td>\n",
       "      <td>cyclosporine</td>\n",
       "      <td>Negative</td>\n",
       "    </tr>\n",
       "    <tr>\n",
       "      <th>1</th>\n",
       "      <td>143975</td>\n",
       "      <td>[, my, experience, has, been, somewhat, mixed,...</td>\n",
       "      <td>etonogestrel</td>\n",
       "      <td>Neutral</td>\n",
       "    </tr>\n",
       "    <tr>\n",
       "      <th>2</th>\n",
       "      <td>106473</td>\n",
       "      <td>[, this, is, my, second, implanon, would, not,...</td>\n",
       "      <td>implanon</td>\n",
       "      <td>Negative</td>\n",
       "    </tr>\n",
       "    <tr>\n",
       "      <th>3</th>\n",
       "      <td>184526</td>\n",
       "      <td>[, i, recommend, taking, as, prescribed, , and...</td>\n",
       "      <td>hydroxyzine</td>\n",
       "      <td>Positive</td>\n",
       "    </tr>\n",
       "    <tr>\n",
       "      <th>4</th>\n",
       "      <td>91587</td>\n",
       "      <td>[, i, have, been, on, ampyra, for, , days, and...</td>\n",
       "      <td>dalfampridine</td>\n",
       "      <td>Positive</td>\n",
       "    </tr>\n",
       "  </tbody>\n",
       "</table>\n",
       "</div>"
      ]
     },
     "execution_count": 15,
     "metadata": {},
     "output_type": "execute_result"
    }
   ],
   "execution_count": 15
  },
  {
   "cell_type": "markdown",
   "source": [
    "Now let's preprocess our data and save it to .csv file:"
   ],
   "metadata": {
    "collapsed": false
   },
   "id": "1bcb384c0e3cebbc"
  },
  {
   "cell_type": "code",
   "source": [
    "prep_df.to_csv('prep_data/drug_review_train_auto_prep_sc.csv')"
   ],
   "metadata": {
    "collapsed": false,
    "ExecuteTime": {
     "end_time": "2025-01-29T06:56:06.503163Z",
     "start_time": "2025-01-29T06:56:03.614180Z"
    }
   },
   "id": "21727957f7dcf523",
   "outputs": [],
   "execution_count": 16
  },
  {
   "cell_type": "code",
   "source": [
    "prep_df['review'] = text_preprocessor.remove_stopwords().lemmatize().X"
   ],
   "metadata": {
    "collapsed": false,
    "ExecuteTime": {
     "end_time": "2025-01-29T06:58:48.126122Z",
     "start_time": "2025-01-29T06:56:06.536630Z"
    }
   },
   "id": "9d6c914c00f594b4",
   "outputs": [
    {
     "name": "stderr",
     "output_type": "stream",
     "text": [
      "INFO:__main__:Stopwords removal done\n",
      "INFO:__main__:Lemmatization done\n"
     ]
    }
   ],
   "execution_count": 17
  },
  {
   "cell_type": "code",
   "source": [
    "prep_df.to_csv('prep_data/drug_review_train_auto_prep_full_sc.csv')"
   ],
   "metadata": {
    "collapsed": false,
    "ExecuteTime": {
     "end_time": "2025-01-29T06:58:49.432753Z",
     "start_time": "2025-01-29T06:58:48.126122Z"
    }
   },
   "id": "4ce79aaf5dc54304",
   "outputs": [],
   "execution_count": 18
  },
  {
   "cell_type": "code",
   "source": [
    "prep_2_df = pd.read_csv('./prep_data/drug_review_train_auto_prep.csv')\n",
    "# prep_df == prep_2_df"
   ],
   "metadata": {
    "collapsed": false,
    "ExecuteTime": {
     "end_time": "2025-01-29T07:10:55.344453Z",
     "start_time": "2025-01-29T07:10:54.597500Z"
    }
   },
   "id": "788ed2b3d907a9f8",
   "outputs": [
    {
     "ename": "ValueError",
     "evalue": "Can only compare identically-labeled (both index and columns) DataFrame objects",
     "output_type": "error",
     "traceback": [
      "\u001B[1;31m---------------------------------------------------------------------------\u001B[0m",
      "\u001B[1;31mValueError\u001B[0m                                Traceback (most recent call last)",
      "\u001B[1;32m~\\AppData\\Local\\Temp\\ipykernel_34640\\209630479.py\u001B[0m in \u001B[0;36m?\u001B[1;34m()\u001B[0m\n\u001B[1;32m----> 2\u001B[1;33m \u001B[0mprep_2_df\u001B[0m \u001B[1;33m=\u001B[0m \u001B[0mpd\u001B[0m\u001B[1;33m.\u001B[0m\u001B[0mread_csv\u001B[0m\u001B[1;33m(\u001B[0m\u001B[1;34m'./prep_data/drug_review_train_auto_prep.csv'\u001B[0m\u001B[1;33m)\u001B[0m\u001B[1;33m\u001B[0m\u001B[1;33m\u001B[0m\u001B[0m\n\u001B[0m\u001B[0;32m      3\u001B[0m \u001B[0mprep_df\u001B[0m \u001B[1;33m==\u001B[0m \u001B[0mprep_2_df\u001B[0m\u001B[1;33m\u001B[0m\u001B[1;33m\u001B[0m\u001B[0m\n",
      "\u001B[1;32m~\\PycharmProjects\\trial_sa\\ML_week_SA_drugs\\.venv\\lib\\site-packages\\pandas\\core\\ops\\common.py\u001B[0m in \u001B[0;36m?\u001B[1;34m(self, other)\u001B[0m\n\u001B[0;32m     72\u001B[0m                     \u001B[1;32mreturn\u001B[0m \u001B[0mNotImplemented\u001B[0m\u001B[1;33m\u001B[0m\u001B[1;33m\u001B[0m\u001B[0m\n\u001B[0;32m     73\u001B[0m \u001B[1;33m\u001B[0m\u001B[0m\n\u001B[0;32m     74\u001B[0m         \u001B[0mother\u001B[0m \u001B[1;33m=\u001B[0m \u001B[0mitem_from_zerodim\u001B[0m\u001B[1;33m(\u001B[0m\u001B[0mother\u001B[0m\u001B[1;33m)\u001B[0m\u001B[1;33m\u001B[0m\u001B[1;33m\u001B[0m\u001B[0m\n\u001B[0;32m     75\u001B[0m \u001B[1;33m\u001B[0m\u001B[0m\n\u001B[1;32m---> 76\u001B[1;33m         \u001B[1;32mreturn\u001B[0m \u001B[0mmethod\u001B[0m\u001B[1;33m(\u001B[0m\u001B[0mself\u001B[0m\u001B[1;33m,\u001B[0m \u001B[0mother\u001B[0m\u001B[1;33m)\u001B[0m\u001B[1;33m\u001B[0m\u001B[1;33m\u001B[0m\u001B[0m\n\u001B[0m",
      "\u001B[1;32m~\\PycharmProjects\\trial_sa\\ML_week_SA_drugs\\.venv\\lib\\site-packages\\pandas\\core\\arraylike.py\u001B[0m in \u001B[0;36m?\u001B[1;34m(self, other)\u001B[0m\n\u001B[0;32m     38\u001B[0m     \u001B[1;33m@\u001B[0m\u001B[0munpack_zerodim_and_defer\u001B[0m\u001B[1;33m(\u001B[0m\u001B[1;34m\"__eq__\"\u001B[0m\u001B[1;33m)\u001B[0m\u001B[1;33m\u001B[0m\u001B[1;33m\u001B[0m\u001B[0m\n\u001B[0;32m     39\u001B[0m     \u001B[1;32mdef\u001B[0m \u001B[0m__eq__\u001B[0m\u001B[1;33m(\u001B[0m\u001B[0mself\u001B[0m\u001B[1;33m,\u001B[0m \u001B[0mother\u001B[0m\u001B[1;33m)\u001B[0m\u001B[1;33m:\u001B[0m\u001B[1;33m\u001B[0m\u001B[1;33m\u001B[0m\u001B[0m\n\u001B[1;32m---> 40\u001B[1;33m         \u001B[1;32mreturn\u001B[0m \u001B[0mself\u001B[0m\u001B[1;33m.\u001B[0m\u001B[0m_cmp_method\u001B[0m\u001B[1;33m(\u001B[0m\u001B[0mother\u001B[0m\u001B[1;33m,\u001B[0m \u001B[0moperator\u001B[0m\u001B[1;33m.\u001B[0m\u001B[0meq\u001B[0m\u001B[1;33m)\u001B[0m\u001B[1;33m\u001B[0m\u001B[1;33m\u001B[0m\u001B[0m\n\u001B[0m",
      "\u001B[1;32m~\\PycharmProjects\\trial_sa\\ML_week_SA_drugs\\.venv\\lib\\site-packages\\pandas\\core\\frame.py\u001B[0m in \u001B[0;36m?\u001B[1;34m(self, other, op)\u001B[0m\n\u001B[0;32m   7894\u001B[0m     \u001B[1;32mdef\u001B[0m \u001B[0m_cmp_method\u001B[0m\u001B[1;33m(\u001B[0m\u001B[0mself\u001B[0m\u001B[1;33m,\u001B[0m \u001B[0mother\u001B[0m\u001B[1;33m,\u001B[0m \u001B[0mop\u001B[0m\u001B[1;33m)\u001B[0m\u001B[1;33m:\u001B[0m\u001B[1;33m\u001B[0m\u001B[1;33m\u001B[0m\u001B[0m\n\u001B[0;32m   7895\u001B[0m         \u001B[0maxis\u001B[0m\u001B[1;33m:\u001B[0m \u001B[0mLiteral\u001B[0m\u001B[1;33m[\u001B[0m\u001B[1;36m1\u001B[0m\u001B[1;33m]\u001B[0m \u001B[1;33m=\u001B[0m \u001B[1;36m1\u001B[0m  \u001B[1;31m# only relevant for Series other case\u001B[0m\u001B[1;33m\u001B[0m\u001B[1;33m\u001B[0m\u001B[0m\n\u001B[0;32m   7896\u001B[0m \u001B[1;33m\u001B[0m\u001B[0m\n\u001B[1;32m-> 7897\u001B[1;33m         \u001B[0mself\u001B[0m\u001B[1;33m,\u001B[0m \u001B[0mother\u001B[0m \u001B[1;33m=\u001B[0m \u001B[0mself\u001B[0m\u001B[1;33m.\u001B[0m\u001B[0m_align_for_op\u001B[0m\u001B[1;33m(\u001B[0m\u001B[0mother\u001B[0m\u001B[1;33m,\u001B[0m \u001B[0maxis\u001B[0m\u001B[1;33m,\u001B[0m \u001B[0mflex\u001B[0m\u001B[1;33m=\u001B[0m\u001B[1;32mFalse\u001B[0m\u001B[1;33m,\u001B[0m \u001B[0mlevel\u001B[0m\u001B[1;33m=\u001B[0m\u001B[1;32mNone\u001B[0m\u001B[1;33m)\u001B[0m\u001B[1;33m\u001B[0m\u001B[1;33m\u001B[0m\u001B[0m\n\u001B[0m\u001B[0;32m   7898\u001B[0m \u001B[1;33m\u001B[0m\u001B[0m\n\u001B[0;32m   7899\u001B[0m         \u001B[1;31m# See GH#4537 for discussion of scalar op behavior\u001B[0m\u001B[1;33m\u001B[0m\u001B[1;33m\u001B[0m\u001B[0m\n\u001B[0;32m   7900\u001B[0m         \u001B[0mnew_data\u001B[0m \u001B[1;33m=\u001B[0m \u001B[0mself\u001B[0m\u001B[1;33m.\u001B[0m\u001B[0m_dispatch_frame_op\u001B[0m\u001B[1;33m(\u001B[0m\u001B[0mother\u001B[0m\u001B[1;33m,\u001B[0m \u001B[0mop\u001B[0m\u001B[1;33m,\u001B[0m \u001B[0maxis\u001B[0m\u001B[1;33m=\u001B[0m\u001B[0maxis\u001B[0m\u001B[1;33m)\u001B[0m\u001B[1;33m\u001B[0m\u001B[1;33m\u001B[0m\u001B[0m\n",
      "\u001B[1;32m~\\PycharmProjects\\trial_sa\\ML_week_SA_drugs\\.venv\\lib\\site-packages\\pandas\\core\\frame.py\u001B[0m in \u001B[0;36m?\u001B[1;34m(self, other, axis, flex, level)\u001B[0m\n\u001B[0;32m   8192\u001B[0m                     left, right = left.align(\n\u001B[0;32m   8193\u001B[0m                         \u001B[0mright\u001B[0m\u001B[1;33m,\u001B[0m \u001B[0mjoin\u001B[0m\u001B[1;33m=\u001B[0m\u001B[1;34m\"outer\"\u001B[0m\u001B[1;33m,\u001B[0m \u001B[0mlevel\u001B[0m\u001B[1;33m=\u001B[0m\u001B[0mlevel\u001B[0m\u001B[1;33m,\u001B[0m \u001B[0mcopy\u001B[0m\u001B[1;33m=\u001B[0m\u001B[1;32mFalse\u001B[0m\u001B[1;33m\u001B[0m\u001B[1;33m\u001B[0m\u001B[0m\n\u001B[0;32m   8194\u001B[0m                     )\n\u001B[0;32m   8195\u001B[0m                 \u001B[1;32melse\u001B[0m\u001B[1;33m:\u001B[0m\u001B[1;33m\u001B[0m\u001B[1;33m\u001B[0m\u001B[0m\n\u001B[1;32m-> 8196\u001B[1;33m                     raise ValueError(\n\u001B[0m\u001B[0;32m   8197\u001B[0m                         \u001B[1;34m\"Can only compare identically-labeled (both index and columns) \"\u001B[0m\u001B[1;33m\u001B[0m\u001B[1;33m\u001B[0m\u001B[0m\n\u001B[0;32m   8198\u001B[0m                         \u001B[1;34m\"DataFrame objects\"\u001B[0m\u001B[1;33m\u001B[0m\u001B[1;33m\u001B[0m\u001B[0m\n\u001B[0;32m   8199\u001B[0m                     )\n",
      "\u001B[1;31mValueError\u001B[0m: Can only compare identically-labeled (both index and columns) DataFrame objects"
     ]
    }
   ],
   "execution_count": 19
  },
  {
   "metadata": {},
   "cell_type": "code",
   "outputs": [],
   "execution_count": null,
   "source": "",
   "id": "726257945cb67801"
  }
 ],
 "metadata": {
  "kernelspec": {
   "display_name": "Python 3",
   "language": "python",
   "name": "python3"
  },
  "language_info": {
   "codemirror_mode": {
    "name": "ipython",
    "version": 2
   },
   "file_extension": ".py",
   "mimetype": "text/x-python",
   "name": "python",
   "nbconvert_exporter": "python",
   "pygments_lexer": "ipython2",
   "version": "2.7.6"
  }
 },
 "nbformat": 4,
 "nbformat_minor": 5
}
