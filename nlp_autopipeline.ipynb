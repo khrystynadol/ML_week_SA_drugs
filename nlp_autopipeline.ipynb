{
 "cells": [
  {
   "cell_type": "markdown",
   "source": [
    "### NLP Pipeline\n",
    "\n",
    "Let's start from importing basic libraries:"
   ],
   "metadata": {
    "collapsed": false
   },
   "id": "64e7fc04fd4eb857"
  },
  {
   "cell_type": "code",
   "outputs": [],
   "source": [
    "import os\n",
    "\n",
    "import numpy as np\n",
    "import pandas as pd\n",
    "# import tensorflow as tf\n",
    "\n",
    "import warnings\n",
    "warnings.filterwarnings(\"ignore\")"
   ],
   "metadata": {
    "collapsed": true,
    "ExecuteTime": {
     "end_time": "2025-01-28T16:20:37.950047700Z",
     "start_time": "2025-01-28T16:20:36.741228600Z"
    }
   },
   "id": "initial_id",
   "execution_count": 1
  },
  {
   "cell_type": "markdown",
   "source": [
    "Now let's read our train data and create a DataFrame:"
   ],
   "metadata": {
    "collapsed": false
   },
   "id": "2267a5f474542ba2"
  },
  {
   "cell_type": "code",
   "outputs": [
    {
     "data": {
      "text/plain": "   Unnamed: 0  patient_id       drugName                   condition  \\\n0           0       89879   Cyclosporine  keratoconjunctivitis sicca   \n1           1      143975   Etonogestrel               birth control   \n2           2      106473       Implanon               birth control   \n3           3      184526    Hydroxyzine                     anxiety   \n4           4       91587  Dalfampridine          multiple sclerosis   \n\n                                              review  rating            date  \\\n0  \"i have used restasis for about a year now and...     2.0  April 20, 2013   \n1  \"my experience has been somewhat mixed. i have...     7.0  August 7, 2016   \n2  \"this is my second implanon would not recommen...     1.0    May 11, 2016   \n3  \"i recommend taking as prescribed, and the bot...    10.0  March 19, 2012   \n4  \"i have been on ampyra for 5 days and have bee...     9.0  August 1, 2010   \n\n   usefulCount  review_length  \n0           69            147  \n1            4            136  \n2            6            140  \n3          124            104  \n4          101             74  ",
      "text/html": "<div>\n<style scoped>\n    .dataframe tbody tr th:only-of-type {\n        vertical-align: middle;\n    }\n\n    .dataframe tbody tr th {\n        vertical-align: top;\n    }\n\n    .dataframe thead th {\n        text-align: right;\n    }\n</style>\n<table border=\"1\" class=\"dataframe\">\n  <thead>\n    <tr style=\"text-align: right;\">\n      <th></th>\n      <th>Unnamed: 0</th>\n      <th>patient_id</th>\n      <th>drugName</th>\n      <th>condition</th>\n      <th>review</th>\n      <th>rating</th>\n      <th>date</th>\n      <th>usefulCount</th>\n      <th>review_length</th>\n    </tr>\n  </thead>\n  <tbody>\n    <tr>\n      <th>0</th>\n      <td>0</td>\n      <td>89879</td>\n      <td>Cyclosporine</td>\n      <td>keratoconjunctivitis sicca</td>\n      <td>\"i have used restasis for about a year now and...</td>\n      <td>2.0</td>\n      <td>April 20, 2013</td>\n      <td>69</td>\n      <td>147</td>\n    </tr>\n    <tr>\n      <th>1</th>\n      <td>1</td>\n      <td>143975</td>\n      <td>Etonogestrel</td>\n      <td>birth control</td>\n      <td>\"my experience has been somewhat mixed. i have...</td>\n      <td>7.0</td>\n      <td>August 7, 2016</td>\n      <td>4</td>\n      <td>136</td>\n    </tr>\n    <tr>\n      <th>2</th>\n      <td>2</td>\n      <td>106473</td>\n      <td>Implanon</td>\n      <td>birth control</td>\n      <td>\"this is my second implanon would not recommen...</td>\n      <td>1.0</td>\n      <td>May 11, 2016</td>\n      <td>6</td>\n      <td>140</td>\n    </tr>\n    <tr>\n      <th>3</th>\n      <td>3</td>\n      <td>184526</td>\n      <td>Hydroxyzine</td>\n      <td>anxiety</td>\n      <td>\"i recommend taking as prescribed, and the bot...</td>\n      <td>10.0</td>\n      <td>March 19, 2012</td>\n      <td>124</td>\n      <td>104</td>\n    </tr>\n    <tr>\n      <th>4</th>\n      <td>4</td>\n      <td>91587</td>\n      <td>Dalfampridine</td>\n      <td>multiple sclerosis</td>\n      <td>\"i have been on ampyra for 5 days and have bee...</td>\n      <td>9.0</td>\n      <td>August 1, 2010</td>\n      <td>101</td>\n      <td>74</td>\n    </tr>\n  </tbody>\n</table>\n</div>"
     },
     "execution_count": 2,
     "metadata": {},
     "output_type": "execute_result"
    }
   ],
   "source": [
    "train_df = pd.read_csv('./data/drug_review_train.csv')\n",
    "train_df.head()"
   ],
   "metadata": {
    "collapsed": false,
    "ExecuteTime": {
     "end_time": "2025-01-28T16:20:39.885329Z",
     "start_time": "2025-01-28T16:20:37.952277100Z"
    }
   },
   "id": "95b83e3ea798e95",
   "execution_count": 2
  },
  {
   "cell_type": "markdown",
   "source": [
    "Downloading libraries, necessary for preprocessing:"
   ],
   "metadata": {
    "collapsed": false
   },
   "id": "8dde856e219b41d"
  },
  {
   "cell_type": "code",
   "outputs": [
    {
     "name": "stdout",
     "output_type": "stream",
     "text": [
      "Requirement already satisfied: pip in c:\\users\\khrystyna\\appdata\\local\\programs\\python\\python311\\lib\\site-packages (25.0)\n"
     ]
    }
   ],
   "source": [
    "!python.exe -m pip install --upgrade pip\n",
    "!pip install nltk --upgrade --quiet\n",
    "# !pip install beautifulsoup4 --upgrade --quiet\n",
    "# !pip install contractions --upgrade --quiet\n",
    "# \n",
    "# !pip install unidecode --upgrade --quiet\n",
    "# !pip install textblob --upgrade --quiet\n",
    "# !pip install pyspellchecker --upgrade --quiet"
   ],
   "metadata": {
    "collapsed": false,
    "ExecuteTime": {
     "end_time": "2025-01-28T16:20:45.110316300Z",
     "start_time": "2025-01-28T16:20:39.888510300Z"
    }
   },
   "id": "34d415aec6294578",
   "execution_count": 3
  },
  {
   "cell_type": "markdown",
   "source": [
    "Let's create a new Dataframe for preprocessed data:"
   ],
   "metadata": {
    "collapsed": false
   },
   "id": "48cddf016d4a9940"
  },
  {
   "cell_type": "code",
   "outputs": [],
   "source": [
    "prep_df = pd.DataFrame()\n",
    "\n",
    "prep_df['patient_id'] = train_df['patient_id']\n",
    "prep_df['review'] = train_df['review']\n",
    "prep_df['drugName'] = train_df['drugName'].apply(lambda x: x.lower())"
   ],
   "metadata": {
    "collapsed": false,
    "ExecuteTime": {
     "end_time": "2025-01-28T16:20:45.168122300Z",
     "start_time": "2025-01-28T16:20:45.111316900Z"
    }
   },
   "id": "ee24c1432d3bf6f0",
   "execution_count": 4
  },
  {
   "cell_type": "markdown",
   "source": [
    "Relabeling rating column:"
   ],
   "metadata": {
    "collapsed": false
   },
   "id": "5e991f62e5ef9163"
  },
  {
   "cell_type": "code",
   "outputs": [],
   "source": [
    "def relabel_rating(rating):\n",
    "    if 0 <= rating <= 4:\n",
    "        return 'Negative'\n",
    "    elif 5 <= rating <= 7:\n",
    "        return 'Neutral'\n",
    "    elif 8 <= rating <= 10:\n",
    "        return 'Positive'\n",
    "\n",
    "prep_df['rating_category'] = train_df['rating'].apply(relabel_rating)"
   ],
   "metadata": {
    "collapsed": false,
    "ExecuteTime": {
     "end_time": "2025-01-28T16:20:45.214194300Z",
     "start_time": "2025-01-28T16:20:45.165553200Z"
    }
   },
   "id": "c943870d50002238",
   "execution_count": 5
  },
  {
   "cell_type": "code",
   "outputs": [
    {
     "data": {
      "text/plain": "   patient_id                                             review  \\\n0       89879  \"i have used restasis for about a year now and...   \n1      143975  \"my experience has been somewhat mixed. i have...   \n2      106473  \"this is my second implanon would not recommen...   \n3      184526  \"i recommend taking as prescribed, and the bot...   \n4       91587  \"i have been on ampyra for 5 days and have bee...   \n\n        drugName rating_category  \n0   cyclosporine        Negative  \n1   etonogestrel         Neutral  \n2       implanon        Negative  \n3    hydroxyzine        Positive  \n4  dalfampridine        Positive  ",
      "text/html": "<div>\n<style scoped>\n    .dataframe tbody tr th:only-of-type {\n        vertical-align: middle;\n    }\n\n    .dataframe tbody tr th {\n        vertical-align: top;\n    }\n\n    .dataframe thead th {\n        text-align: right;\n    }\n</style>\n<table border=\"1\" class=\"dataframe\">\n  <thead>\n    <tr style=\"text-align: right;\">\n      <th></th>\n      <th>patient_id</th>\n      <th>review</th>\n      <th>drugName</th>\n      <th>rating_category</th>\n    </tr>\n  </thead>\n  <tbody>\n    <tr>\n      <th>0</th>\n      <td>89879</td>\n      <td>\"i have used restasis for about a year now and...</td>\n      <td>cyclosporine</td>\n      <td>Negative</td>\n    </tr>\n    <tr>\n      <th>1</th>\n      <td>143975</td>\n      <td>\"my experience has been somewhat mixed. i have...</td>\n      <td>etonogestrel</td>\n      <td>Neutral</td>\n    </tr>\n    <tr>\n      <th>2</th>\n      <td>106473</td>\n      <td>\"this is my second implanon would not recommen...</td>\n      <td>implanon</td>\n      <td>Negative</td>\n    </tr>\n    <tr>\n      <th>3</th>\n      <td>184526</td>\n      <td>\"i recommend taking as prescribed, and the bot...</td>\n      <td>hydroxyzine</td>\n      <td>Positive</td>\n    </tr>\n    <tr>\n      <th>4</th>\n      <td>91587</td>\n      <td>\"i have been on ampyra for 5 days and have bee...</td>\n      <td>dalfampridine</td>\n      <td>Positive</td>\n    </tr>\n  </tbody>\n</table>\n</div>"
     },
     "execution_count": 6,
     "metadata": {},
     "output_type": "execute_result"
    }
   ],
   "source": [
    "prep_df.head()"
   ],
   "metadata": {
    "collapsed": false,
    "ExecuteTime": {
     "end_time": "2025-01-28T16:20:45.243812800Z",
     "start_time": "2025-01-28T16:20:45.217195400Z"
    }
   },
   "id": "5e01448fc10609f7",
   "execution_count": 6
  },
  {
   "cell_type": "markdown",
   "source": [
    "Now let's import libraries for text preprocessing:"
   ],
   "metadata": {
    "collapsed": false
   },
   "id": "2f79d36e8192ba58"
  },
  {
   "cell_type": "code",
   "outputs": [
    {
     "data": {
      "text/plain": "   patient_id                                             review  \\\n0       89879  i have used restasis for about a year now and ...   \n1      143975  my experience has been somewhat mixed i have b...   \n2      106473  this is my second implanon would not recommend...   \n3      184526  i recommend taking as prescribed and the bottl...   \n4       91587  i have been on ampyra for days and have been s...   \n\n        drugName rating_category  \n0   cyclosporine        Negative  \n1   etonogestrel         Neutral  \n2       implanon        Negative  \n3    hydroxyzine        Positive  \n4  dalfampridine        Positive  ",
      "text/html": "<div>\n<style scoped>\n    .dataframe tbody tr th:only-of-type {\n        vertical-align: middle;\n    }\n\n    .dataframe tbody tr th {\n        vertical-align: top;\n    }\n\n    .dataframe thead th {\n        text-align: right;\n    }\n</style>\n<table border=\"1\" class=\"dataframe\">\n  <thead>\n    <tr style=\"text-align: right;\">\n      <th></th>\n      <th>patient_id</th>\n      <th>review</th>\n      <th>drugName</th>\n      <th>rating_category</th>\n    </tr>\n  </thead>\n  <tbody>\n    <tr>\n      <th>0</th>\n      <td>89879</td>\n      <td>i have used restasis for about a year now and ...</td>\n      <td>cyclosporine</td>\n      <td>Negative</td>\n    </tr>\n    <tr>\n      <th>1</th>\n      <td>143975</td>\n      <td>my experience has been somewhat mixed i have b...</td>\n      <td>etonogestrel</td>\n      <td>Neutral</td>\n    </tr>\n    <tr>\n      <th>2</th>\n      <td>106473</td>\n      <td>this is my second implanon would not recommend...</td>\n      <td>implanon</td>\n      <td>Negative</td>\n    </tr>\n    <tr>\n      <th>3</th>\n      <td>184526</td>\n      <td>i recommend taking as prescribed and the bottl...</td>\n      <td>hydroxyzine</td>\n      <td>Positive</td>\n    </tr>\n    <tr>\n      <th>4</th>\n      <td>91587</td>\n      <td>i have been on ampyra for days and have been s...</td>\n      <td>dalfampridine</td>\n      <td>Positive</td>\n    </tr>\n  </tbody>\n</table>\n</div>"
     },
     "execution_count": 35,
     "metadata": {},
     "output_type": "execute_result"
    }
   ],
   "source": [
    "from nltk import word_tokenize\n",
    "\n",
    "train_df['review'] = train_df['review'].apply(word_tokenize)\n",
    "prep_df.head()"
   ],
   "metadata": {
    "collapsed": false,
    "ExecuteTime": {
     "end_time": "2025-01-28T17:23:52.165609300Z",
     "start_time": "2025-01-28T17:22:43.843858600Z"
    }
   },
   "id": "44b30036cef182e9",
   "execution_count": 35
  },
  {
   "cell_type": "code",
   "outputs": [
    {
     "name": "stderr",
     "output_type": "stream",
     "text": [
      "[nltk_data] Downloading package stopwords to\n",
      "[nltk_data]     C:\\Users\\Khrystyna\\AppData\\Roaming\\nltk_data...\n",
      "[nltk_data]   Package stopwords is already up-to-date!\n",
      "[nltk_data] Downloading package wordnet to\n",
      "[nltk_data]     C:\\Users\\Khrystyna\\AppData\\Roaming\\nltk_data...\n",
      "[nltk_data]   Package wordnet is already up-to-date!\n",
      "[nltk_data] Downloading package averaged_perceptron_tagger_eng to\n",
      "[nltk_data]     C:\\Users\\Khrystyna\\AppData\\Roaming\\nltk_data...\n",
      "[nltk_data]   Package averaged_perceptron_tagger_eng is already up-to-\n",
      "[nltk_data]       date!\n"
     ]
    }
   ],
   "source": [
    "import re\n",
    "import string\n",
    "import contractions\n",
    "\n",
    "import logging\n",
    "\n",
    "from unidecode import unidecode\n",
    "\n",
    "import nltk\n",
    "from nltk.corpus import stopwords\n",
    "\n",
    "from nltk.corpus import wordnet\n",
    "from nltk import pos_tag, word_tokenize\n",
    "from nltk.stem import WordNetLemmatizer\n",
    "\n",
    "from bs4 import BeautifulSoup\n",
    "from unidecode import unidecode\n",
    "from textblob import TextBlob\n",
    "\n",
    "nltk.download(\"stopwords\")\n",
    "sw_nltk = stopwords.words('english')\n",
    "nltk.download(\"wordnet\")\n",
    "nltk.download('averaged_perceptron_tagger_eng')\n",
    "\n",
    "lemmatizer = WordNetLemmatizer()\n",
    "\n",
    "logging.basicConfig(level=logging.INFO)\n",
    "logger = logging.getLogger(__name__)"
   ],
   "metadata": {
    "collapsed": false,
    "ExecuteTime": {
     "end_time": "2025-01-28T17:23:52.588514200Z",
     "start_time": "2025-01-28T17:23:52.158211600Z"
    }
   },
   "id": "6fc80a69a6f7e6dd",
   "execution_count": 36
  },
  {
   "cell_type": "code",
   "outputs": [],
   "source": [
    "def get_wordnet_pos(tag):\n",
    "    if tag.startswith('J'):\n",
    "        return wordnet.ADJ\n",
    "    elif tag.startswith('V'):\n",
    "        return wordnet.VERB\n",
    "    elif tag.startswith('N'):\n",
    "        return wordnet.NOUN\n",
    "    elif tag.startswith('R'):\n",
    "        return wordnet.ADV\n",
    "    else:\n",
    "        return wordnet.NOUN\n",
    "\n",
    "# Lemmatize with POS tagging for lists\n",
    "# def lemmatize_with_pos(tokens):\n",
    "#     pos_tags = pos_tag(tokens)\n",
    "#     lemmatized_tokens = [lemmatizer.lemmatize(word, get_wordnet_pos(tag)) for word, tag in pos_tags]\n",
    "#     return lemmatized_tokens\n",
    "\n",
    "def lemmatize_with_pos(tokens):\n",
    "    if isinstance(tokens, str):\n",
    "        tokens = word_tokenize(tokens)\n",
    "\n",
    "    if not isinstance(tokens, list):\n",
    "        raise TypeError(\"tokens: expected a list of strings, got a string\")\n",
    "    \n",
    "    pos_tags = pos_tag(tokens)\n",
    "    lemmatized_tokens = [lemmatizer.lemmatize(word, get_wordnet_pos(tag)) for word, tag in pos_tags]\n",
    "    return lemmatized_tokens"
   ],
   "metadata": {
    "collapsed": false,
    "ExecuteTime": {
     "end_time": "2025-01-28T17:23:52.589514700Z",
     "start_time": "2025-01-28T17:23:52.580462Z"
    }
   },
   "id": "95df5ba4cf37d687",
   "execution_count": 37
  },
  {
   "cell_type": "code",
   "outputs": [],
   "source": [
    "class Pipeline:\n",
    "    def __init__(self, X):\n",
    "        self.X = X\n",
    "        \n",
    "    def to_lower(self):\n",
    "        # Let's check if first element is a list\n",
    "        if isinstance(self.X.iloc[0], list):     \n",
    "            self.X = self.X.apply(lambda tokens: [token.lower() for token in tokens])\n",
    "        else:\n",
    "            self.X = self.X.apply(lambda x: x.lower())\n",
    "        logger.info(\"Lowercase done\")\n",
    "        return self\n",
    "    \n",
    "    def remove_numbers(self):\n",
    "        if isinstance(self.X.iloc[0], list):\n",
    "            self.X = self.X.apply(lambda tokens: [re.sub(r'\\d+', '', token) for token in tokens])\n",
    "        else:\n",
    "            self.X = self.X.apply(lambda x: re.sub(r'\\d+', '', x))\n",
    "        logger.info(\"Numbers removal done\")\n",
    "        return self\n",
    "\n",
    "    def remove_dots(self):\n",
    "        if isinstance(self.X.iloc[0], list):     \n",
    "            self.X = self.X.apply(lambda tokens: [re.sub(\"[.]\", \"\", token) for token in tokens])\n",
    "        else:\n",
    "            self.X = self.X.apply(lambda x: re.sub(\"[.]\", \"\", x))\n",
    "        logger.info(\"Dots removal done\")\n",
    "        return self\n",
    "    \n",
    "    def remove_punctuation(self):\n",
    "        # '!\"#$%&'()*+,-./:;<=>?@[\\]^_`{|}~' 32 punctuations in python string module\n",
    "        if isinstance(self.X.iloc[0], list):     \n",
    "            self.X = self.X.apply(lambda tokens: [re.sub('[%s]' % re.escape(string.punctuation), '', token) for token in tokens])\n",
    "        else:\n",
    "            self.X = self.X.apply(lambda x: re.sub('[%s]' % re.escape(string.punctuation), '', x))\n",
    "        logger.info(\"Punctuation removal done\")\n",
    "        return self\n",
    "    \n",
    "    def remove_multi_whitespace(self):\n",
    "        if isinstance(self.X.iloc[0], list):     \n",
    "            self.X = self.X.apply(lambda tokens: [re.sub(' +', ' ', token) for token in tokens])\n",
    "        else:\n",
    "            self.X = self.X.apply(lambda x: re.sub(' +', ' ', x))\n",
    "        logger.info(\"Multi whitespaces removal done\")\n",
    "        return self\n",
    "    \n",
    "    def expand_contractions(self):\n",
    "        if isinstance(self.X.iloc[0], list):\n",
    "            self.X = self.X.apply(\n",
    "                lambda tokens: [contractions.fix(str(token)) for token in tokens if isinstance(token, str)]\n",
    "            )\n",
    "        else: \n",
    "            self.X = self.X.apply(\n",
    "                lambda x: \" \".join([contractions.fix(str(word)) for word in x.split() if isinstance(word, str)])\n",
    "            )\n",
    "        logger.info(\"Contractions expand done\")\n",
    "        return self\n",
    "\n",
    "    # Is this step usable for current dataset?\n",
    "    def remove_html_tags(self):\n",
    "        self.X = self.X.apply(\n",
    "            lambda x: BeautifulSoup(x, 'html.parser').get_text())\n",
    "        logger.info(\"HTML tags removal done\")\n",
    "        return self\n",
    "\n",
    "    def replace_diacritics(self):\n",
    "        def process_tokens(tokens):\n",
    "            try:\n",
    "                return [unidecode(str(token)) for token in tokens]\n",
    "            except Exception as e:\n",
    "                logger.info(f\"Error processing tokens: {tokens}. Error: {e}\")\n",
    "                return tokens\n",
    "    \n",
    "        if isinstance(self.X.iloc[0], list):\n",
    "            self.X = self.X.apply(lambda tokens: process_tokens(tokens) if isinstance(tokens, list) else tokens)\n",
    "        else:\n",
    "            self.X = self.X.apply(lambda x: unidecode(str(x)) if isinstance(x, str) else str(x))\n",
    "        \n",
    "        logger.info(\"Diacritics replacement done\")\n",
    "        return self\n",
    "    \n",
    "    def spellcheck(self):\n",
    "        self.X = self.X.apply(lambda tokens: [str(TextBlob(token).correct()) for token in tokens] if isinstance(tokens, list) else tokens)\n",
    "        logger.info(\"Spellcheck done\")\n",
    "        return self\n",
    "    \n",
    "    # Will NOT be used for Transformers\n",
    "    def remove_stopwords(self):\n",
    "        # Possible to add custom stopwords\n",
    "        # new_stopwords = ['drugs']\n",
    "        # sw_nltk.extend(new_stopwords)\n",
    "        # Possible to remove already existing stopwords\n",
    "        # sw_nltk.remove('not')\n",
    "        self.X = self.X.apply(lambda tokens: [token for token in tokens if token not in sw_nltk] if isinstance(tokens, list) else tokens)\n",
    "        logger.info(\"Stopwords removal done\")\n",
    "        return self\n",
    "    \n",
    "    # Will NOT be used for Transformers\n",
    "    def lemmatize(self):\n",
    "        self.X = self.X.apply(lemmatize_with_pos)\n",
    "        logger.info(\"Lemmatization done\")\n",
    "        return self"
   ],
   "metadata": {
    "collapsed": false,
    "ExecuteTime": {
     "end_time": "2025-01-28T17:28:22.555097500Z",
     "start_time": "2025-01-28T17:28:22.542570700Z"
    }
   },
   "id": "66015c4bd82f18ba",
   "execution_count": 42
  },
  {
   "cell_type": "code",
   "outputs": [],
   "source": [
    "text_preprocessor = Pipeline(train_df['review'])"
   ],
   "metadata": {
    "collapsed": false,
    "ExecuteTime": {
     "end_time": "2025-01-28T17:37:26.207532700Z",
     "start_time": "2025-01-28T17:37:26.181319500Z"
    }
   },
   "id": "6b83a549f71cf9bf",
   "execution_count": 50
  },
  {
   "cell_type": "code",
   "outputs": [
    {
     "name": "stderr",
     "output_type": "stream",
     "text": [
      "INFO:__main__:Lowercase done\n",
      "INFO:__main__:Numbers removal done\n",
      "INFO:__main__:Punctuation removal done\n",
      "INFO:__main__:Multi whitespaces removal done\n"
     ]
    }
   ],
   "source": [
    "prep_df['review'] = text_preprocessor.to_lower().remove_numbers().remove_punctuation().remove_multi_whitespace().X"
   ],
   "metadata": {
    "collapsed": false,
    "ExecuteTime": {
     "end_time": "2025-01-28T17:38:18.767604700Z",
     "start_time": "2025-01-28T17:37:27.531283100Z"
    }
   },
   "id": "a6b8a38296658d8f",
   "execution_count": 51
  },
  {
   "cell_type": "code",
   "outputs": [
    {
     "name": "stderr",
     "output_type": "stream",
     "text": [
      "INFO:__main__:Diacritics replacement done\n",
      "INFO:__main__:Contractions expand done\n"
     ]
    }
   ],
   "source": [
    "prep_df['review'] = text_preprocessor.replace_diacritics().expand_contractions().spellcheck().X"
   ],
   "metadata": {
    "collapsed": false,
    "is_executing": true,
    "ExecuteTime": {
     "start_time": "2025-01-28T17:38:23.900578800Z"
    }
   },
   "id": "568a26433654a3bb",
   "execution_count": null
  },
  {
   "cell_type": "code",
   "outputs": [
    {
     "data": {
      "text/plain": "   patient_id                                             review  \\\n0       89879  [, i, have, used, restasis, for, about, a, yea...   \n1      143975  [, my, experience, has, been, somewhat, mixed,...   \n2      106473  [, this, is, my, second, implanon, would, not,...   \n3      184526  [, i, recommend, taking, as, prescribed, , and...   \n4       91587  [, i, have, been, on, ampyra, for, , days, and...   \n\n        drugName rating_category  \n0   cyclosporine        Negative  \n1   etonogestrel         Neutral  \n2       implanon        Negative  \n3    hydroxyzine        Positive  \n4  dalfampridine        Positive  ",
      "text/html": "<div>\n<style scoped>\n    .dataframe tbody tr th:only-of-type {\n        vertical-align: middle;\n    }\n\n    .dataframe tbody tr th {\n        vertical-align: top;\n    }\n\n    .dataframe thead th {\n        text-align: right;\n    }\n</style>\n<table border=\"1\" class=\"dataframe\">\n  <thead>\n    <tr style=\"text-align: right;\">\n      <th></th>\n      <th>patient_id</th>\n      <th>review</th>\n      <th>drugName</th>\n      <th>rating_category</th>\n    </tr>\n  </thead>\n  <tbody>\n    <tr>\n      <th>0</th>\n      <td>89879</td>\n      <td>[, i, have, used, restasis, for, about, a, yea...</td>\n      <td>cyclosporine</td>\n      <td>Negative</td>\n    </tr>\n    <tr>\n      <th>1</th>\n      <td>143975</td>\n      <td>[, my, experience, has, been, somewhat, mixed,...</td>\n      <td>etonogestrel</td>\n      <td>Neutral</td>\n    </tr>\n    <tr>\n      <th>2</th>\n      <td>106473</td>\n      <td>[, this, is, my, second, implanon, would, not,...</td>\n      <td>implanon</td>\n      <td>Negative</td>\n    </tr>\n    <tr>\n      <th>3</th>\n      <td>184526</td>\n      <td>[, i, recommend, taking, as, prescribed, , and...</td>\n      <td>hydroxyzine</td>\n      <td>Positive</td>\n    </tr>\n    <tr>\n      <th>4</th>\n      <td>91587</td>\n      <td>[, i, have, been, on, ampyra, for, , days, and...</td>\n      <td>dalfampridine</td>\n      <td>Positive</td>\n    </tr>\n  </tbody>\n</table>\n</div>"
     },
     "execution_count": 46,
     "metadata": {},
     "output_type": "execute_result"
    }
   ],
   "source": [
    "prep_df.head()"
   ],
   "metadata": {
    "collapsed": false,
    "ExecuteTime": {
     "end_time": "2025-01-28T17:29:53.980443300Z",
     "start_time": "2025-01-28T17:29:53.958231900Z"
    }
   },
   "id": "9da8f2bac56a5d1b",
   "execution_count": 46
  },
  {
   "cell_type": "markdown",
   "source": [
    "Now let's preprocess our data and save it to .csv file:"
   ],
   "metadata": {
    "collapsed": false
   },
   "id": "1bcb384c0e3cebbc"
  },
  {
   "cell_type": "code",
   "outputs": [],
   "source": [
    "prep_df.to_csv('prep_data/drug_review_train_auto_prep_sc.csv')"
   ],
   "metadata": {
    "collapsed": false,
    "ExecuteTime": {
     "end_time": "2025-01-28T17:31:36.073422100Z",
     "start_time": "2025-01-28T17:31:33.222037600Z"
    }
   },
   "id": "21727957f7dcf523",
   "execution_count": 47
  },
  {
   "cell_type": "code",
   "outputs": [
    {
     "name": "stderr",
     "output_type": "stream",
     "text": [
      "INFO:__main__:Stopwords removal done\n",
      "INFO:__main__:Lemmatization done\n"
     ]
    }
   ],
   "source": [
    "prep_df['review'] = text_preprocessor.remove_stopwords().lemmatize().X"
   ],
   "metadata": {
    "collapsed": false,
    "ExecuteTime": {
     "end_time": "2025-01-28T17:36:26.114455200Z",
     "start_time": "2025-01-28T17:31:37.118611600Z"
    }
   },
   "id": "9d6c914c00f594b4",
   "execution_count": 48
  },
  {
   "cell_type": "code",
   "outputs": [],
   "source": [
    "prep_df.to_csv('prep_data/drug_review_train_auto_prep_full_sc.csv')"
   ],
   "metadata": {
    "collapsed": false,
    "ExecuteTime": {
     "end_time": "2025-01-28T17:36:31.513410800Z",
     "start_time": "2025-01-28T17:36:29.297242200Z"
    }
   },
   "id": "4ce79aaf5dc54304",
   "execution_count": 49
  },
  {
   "cell_type": "code",
   "outputs": [],
   "source": [],
   "metadata": {
    "collapsed": false
   },
   "id": "788ed2b3d907a9f8"
  }
 ],
 "metadata": {
  "kernelspec": {
   "display_name": "Python 3",
   "language": "python",
   "name": "python3"
  },
  "language_info": {
   "codemirror_mode": {
    "name": "ipython",
    "version": 2
   },
   "file_extension": ".py",
   "mimetype": "text/x-python",
   "name": "python",
   "nbconvert_exporter": "python",
   "pygments_lexer": "ipython2",
   "version": "2.7.6"
  }
 },
 "nbformat": 4,
 "nbformat_minor": 5
}
